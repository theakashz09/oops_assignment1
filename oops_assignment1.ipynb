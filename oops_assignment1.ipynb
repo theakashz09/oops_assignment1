{
 "cells": [
  {
   "cell_type": "raw",
   "id": "d7e6956c-0ce9-4348-a98b-af4a14fe9c03",
   "metadata": {},
   "source": [
    "Q1. Explain Class and Object with respect to Object-Oriented Programming. Give a suitable example.\n",
    "\n",
    "\n",
    "Ans= In object orinted programming, a class is a blueprint for object, while an object is an instance of a class,A class describe the contents of object that belong to it,including the data fields and operations an object is a concrete thing that made using a specific class ,and it contains the data and behavior defined by the class.\n",
    " for example a class can contains details a house as the floors,door and windows and the house itself is the object,similarly a car can be a object with properties like colour model speed and action like accelerating and braking.\n",
    " A class can be only be declared once but an object can be created many times ,class defind functions called method which identify the behaviors and actions that an object can be perform with its data. we can use the clas key word to create a class\n",
    " \n",
    "         object name = class name ()"
   ]
  },
  {
   "cell_type": "raw",
   "id": "7b8812a3-fdf7-41c9-80d3-1fa953b3e085",
   "metadata": {},
   "source": [
    "Q2. Name the four pillars of OOPs.\n",
    "\n",
    "Ans= Name of four pillars of OOPs are\n",
    "\n",
    "abstraction\n",
    "Encapsulation \n",
    "Polymorphism\n",
    "Inharitence"
   ]
  },
  {
   "cell_type": "raw",
   "id": "8239994c-4c4f-4d2a-a7bb-3c2ee37e36bf",
   "metadata": {},
   "source": [
    "Q3. Explain why the __init__() function is used. Give a suitable example.\n",
    "\n",
    "Ans= The __init__() function is called automatically every time the class is used to create a new object .It is used to assign value to object properties or other operation that are neccessary to do when the object os being created.\n",
    "For example we can creae a class named person and use the __init__() function to assign value for name and age"
   ]
  },
  {
   "cell_type": "code",
   "execution_count": 2,
   "id": "345cc4e0-c11a-4280-9de5-76ae24951b2f",
   "metadata": {},
   "outputs": [
    {
     "name": "stdout",
     "output_type": "stream",
     "text": [
      "harish\n",
      "36\n"
     ]
    }
   ],
   "source": [
    "class person:\n",
    "    def __init__(self,name,age):\n",
    "        self.name = name\n",
    "        self.age = age\n",
    "p=person(\"harish\",36)\n",
    "\n",
    "print (p.name)\n",
    "print (p.age)"
   ]
  },
  {
   "cell_type": "raw",
   "id": "c565e3a5-64db-4b88-8f26-513b683f35a0",
   "metadata": {},
   "source": [
    "Q4. Why self is used in OOPs?\n",
    "\n",
    "Ans= The purpose of the __init__() method is to allow the class to set initial values for the attributes of an object when it is first created. This method takes the \"self\" parameter, which refers to the instence being created,and any additional parameter the class needs to set initial value for the objects attributes."
   ]
  },
  {
   "cell_type": "raw",
   "id": "2909f49b-57ba-4fe4-a7a5-577eb3bc785e",
   "metadata": {},
   "source": [
    "Q5. What is inheritance? Give an example for each type of inheritance.\n",
    "\n",
    "Ans=Inharitence allows us to define a class that inharits all the methods and properties from another class,parent class is the class being inharited from also called base class, child class is the class that inharits from another class"
   ]
  }
 ],
 "metadata": {
  "kernelspec": {
   "display_name": "Python 3 (ipykernel)",
   "language": "python",
   "name": "python3"
  },
  "language_info": {
   "codemirror_mode": {
    "name": "ipython",
    "version": 3
   },
   "file_extension": ".py",
   "mimetype": "text/x-python",
   "name": "python",
   "nbconvert_exporter": "python",
   "pygments_lexer": "ipython3",
   "version": "3.10.8"
  }
 },
 "nbformat": 4,
 "nbformat_minor": 5
}
